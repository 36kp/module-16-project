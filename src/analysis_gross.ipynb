{
 "cells": [
  {
   "cell_type": "code",
   "execution_count": null,
   "metadata": {},
   "outputs": [],
   "source": [
    "import pandas as pd\n",
    "import utils.fetcher_utils as fetcher\n",
    "import utils.preprocess_util as preproc\n",
    "\n",
    "import numpy as np\n",
    "import matplotlib.pyplot as plt\n",
    "import locale\n"
   ]
  },
  {
   "cell_type": "code",
   "execution_count": null,
   "metadata": {},
   "outputs": [],
   "source": [
    "# set pandas options\n",
    "pd.set_option('display.max_columns', None)\n"
   ]
  },
  {
   "cell_type": "code",
   "execution_count": null,
   "metadata": {},
   "outputs": [],
   "source": [
    "# fetch the data \n",
    "df = fetcher.aquireIMDbDataFrame()\n",
    "df.head()"
   ]
  },
  {
   "cell_type": "code",
   "execution_count": null,
   "metadata": {},
   "outputs": [],
   "source": [
    "with pd.option_context('display.float_format', '{:.2f}'.format):\n",
    "    print(df['gross'].describe())"
   ]
  },
  {
   "cell_type": "code",
   "execution_count": null,
   "metadata": {},
   "outputs": [],
   "source": [
    "locale.setlocale(locale.LC_ALL, 'en_US.UTF-8')\n",
    "print(f\"Maximum Gross: {locale.currency(df['gross'].max(), grouping=True)}\")\n",
    "print(f\"Minimum Gross: {locale.currency(df['gross'].min(), grouping=True)}\")\n",
    "\n",
    "# This looks weird, let's investigate"
   ]
  },
  {
   "cell_type": "code",
   "execution_count": null,
   "metadata": {},
   "outputs": [],
   "source": [
    "fig, axes = plt.subplots(1, 2, figsize=(14, 6))\n",
    "\n",
    "# Boxplot\n",
    "axes[0].boxplot(df['gross'].dropna(), vert=False, patch_artist=True)\n",
    "axes[0].set_title(\"Boxplot of Gross Values\")\n",
    "axes[0].set_xlabel(\"Gross\")\n",
    "\n",
    "# Histogram\n",
    "axes[1].hist(df['gross'].dropna(), bins=10, edgecolor='k', alpha=0.7)\n",
    "axes[1].set_title(\"Histogram of Gross Values\")\n",
    "axes[1].set_xlabel(\"Gross\")\n",
    "axes[1].set_ylabel(\"Frequency\")\n",
    "\n",
    "plt.tight_layout()\n",
    "plt.show()"
   ]
  },
  {
   "cell_type": "code",
   "execution_count": null,
   "metadata": {},
   "outputs": [],
   "source": [
    "gross_cleaned = df['gross'].dropna()\n",
    "\n",
    "# Calculate Q1 (25th percentile) and Q3 (75th percentile)\n",
    "Q1 = gross_cleaned.quantile(0.25)\n",
    "Q3 = gross_cleaned.quantile(0.75)\n",
    "\n",
    "# Compute IQR\n",
    "IQR = Q3 - Q1\n",
    "\n",
    "# Calculate outlier boundaries\n",
    "lower_bound = Q1 - 1.5 * IQR\n",
    "upper_bound = Q3 + 1.5 * IQR\n",
    "\n",
    "# Identify outliers\n",
    "outliers = gross_cleaned[(gross_cleaned < lower_bound) | (gross_cleaned > upper_bound)]\n",
    "\n",
    "print(f\"Q1: {Q1}, Q3: {Q3}, IQR: {IQR}\")\n",
    "print(f\"Lower Bound: {lower_bound}, Upper Bound: {upper_bound}\")\n",
    "print(\"Outliers:\")\n",
    "print(outliers)"
   ]
  },
  {
   "cell_type": "code",
   "execution_count": null,
   "metadata": {},
   "outputs": [],
   "source": [
    "df['gross_capped'] = df['gross'].clip(lower=lower_bound, upper=upper_bound)\n",
    "df['gross_capped'].count()"
   ]
  },
  {
   "cell_type": "code",
   "execution_count": null,
   "metadata": {},
   "outputs": [],
   "source": [
    "fig, axes = plt.subplots(1, 2, figsize=(14, 6))\n",
    "\n",
    "# Boxplot\n",
    "axes[0].boxplot(df['gross_capped'].dropna(), vert=False, patch_artist=True)\n",
    "axes[0].set_title(\"Boxplot of Gross Values\")\n",
    "axes[0].set_xlabel(\"Gross\")\n",
    "\n",
    "# Histogram\n",
    "axes[1].hist(df['gross'].dropna(), bins=10, edgecolor='k', alpha=0.7)\n",
    "axes[1].set_title(\"Histogram of Gross Values\")\n",
    "axes[1].set_xlabel(\"Gross\")\n",
    "axes[1].set_ylabel(\"Frequency\")\n",
    "\n",
    "plt.tight_layout()\n",
    "plt.show()"
   ]
  }
 ],
 "metadata": {
  "kernelspec": {
   "display_name": "base",
   "language": "python",
   "name": "python3"
  },
  "language_info": {
   "codemirror_mode": {
    "name": "ipython",
    "version": 3
   },
   "file_extension": ".py",
   "mimetype": "text/x-python",
   "name": "python",
   "nbconvert_exporter": "python",
   "pygments_lexer": "ipython3",
   "version": "3.12.4"
  }
 },
 "nbformat": 4,
 "nbformat_minor": 2
}
