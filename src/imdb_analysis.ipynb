{
 "cells": [
  {
   "cell_type": "code",
   "execution_count": null,
   "metadata": {},
   "outputs": [],
   "source": [
    "import utils.fetcher_utils as fetcher\n",
    "import pandas as pd\n",
    "import matplotlib.pyplot as plt"
   ]
  },
  {
   "cell_type": "code",
   "execution_count": null,
   "metadata": {},
   "outputs": [],
   "source": [
    "pd.set_option('display.max_columns', None)"
   ]
  },
  {
   "cell_type": "code",
   "execution_count": null,
   "metadata": {},
   "outputs": [],
   "source": [
    "# !kaggle datasets download -d \"asaniczka/tmdb-movies-dataset-2023-930k-movies\" -p ../resources --unzip\n",
    "\n",
    "# tmdb_df = pd.read_csv('../resources/TMDB_movie_dataset_v11.csv')\n",
    "# tmdb_df_filtered = tmdb_df[['original_title', 'revenue', 'budget', 'release_date']]"
   ]
  },
  {
   "cell_type": "code",
   "execution_count": null,
   "metadata": {},
   "outputs": [],
   "source": [
    "# tmdb_df.head(3)"
   ]
  },
  {
   "cell_type": "code",
   "execution_count": null,
   "metadata": {},
   "outputs": [],
   "source": [
    "# tmdb_df_filtered = tmdb_df_filtered.dropna()\n",
    "# tmdb_df_filtered = tmdb_df_filtered[(tmdb_df_filtered['revenue']>1_000) & (tmdb_df_filtered['budget']>1_000)] #tmdb_df_filtered['title_year']>2000 &\n",
    "# tmdb_df_filtered.sort_values(by='revenue')"
   ]
  },
  {
   "cell_type": "code",
   "execution_count": null,
   "metadata": {},
   "outputs": [],
   "source": [
    "# tmdb_df_filtered.info()"
   ]
  },
  {
   "cell_type": "code",
   "execution_count": null,
   "metadata": {},
   "outputs": [],
   "source": [
    "# tmdb_df_filtered.plot.hist(column = ['budget'], bins = 100)"
   ]
  },
  {
   "cell_type": "code",
   "execution_count": null,
   "metadata": {},
   "outputs": [],
   "source": [
    "# Get the data from the IMDb dataFrame\n",
    "imdb_df = fetcher.aquireIMDbDataFrame()\n",
    "imdb_df.head()"
   ]
  },
  {
   "cell_type": "code",
   "execution_count": null,
   "metadata": {},
   "outputs": [],
   "source": [
    "drop_columns = ['movie_imdb_link']"
   ]
  },
  {
   "cell_type": "code",
   "execution_count": null,
   "metadata": {},
   "outputs": [],
   "source": [
    "imdb_df_filtered = imdb_df.drop(columns=drop_columns)\n",
    "imdb_df_filtered = imdb_df_filtered.dropna(subset='title_year')\n"
   ]
  },
  {
   "cell_type": "code",
   "execution_count": null,
   "metadata": {},
   "outputs": [],
   "source": [
    "imdb_df_filtered = imdb_df_filtered[(imdb_df_filtered['gross']>1_000) & \n",
    "                                    (imdb_df_filtered['budget']>1_000) & \n",
    "                                    (imdb_df_filtered['country'] == 'USA') &\n",
    "                                    (imdb_df['title_year']>2000)]\n",
    "imdb_df_filtered"
   ]
  },
  {
   "cell_type": "code",
   "execution_count": null,
   "metadata": {},
   "outputs": [],
   "source": [
    "# imdb_df_filtered.loc[imdb_df_filtered['actor_1_name'].str.contains('Bloom') | imdb_df_filtered['actor_2_name'].str.contains('Bloom') | imdb_df_filtered['actor_3_name'].str.contains('Bloom')][['actor_1_name', 'actor_1_facebook_likes','actor_2_name','actor_2_facebook_likes','actor_3_name','actor_3_facebook_likes','imdb_score']]"
   ]
  },
  {
   "cell_type": "code",
   "execution_count": null,
   "metadata": {},
   "outputs": [],
   "source": [
    "for column in imdb_df_filtered.columns:\n",
    "    if(imdb_df_filtered[column].dtype == 'object'):\n",
    "        print(column)\n",
    "        imdb_df_filtered[column] = imdb_df_filtered[column].fillna('unkown')\n",
    "        imdb_df_filtered[column] = imdb_df_filtered[column].apply(lambda x: x.strip())"
   ]
  },
  {
   "cell_type": "code",
   "execution_count": null,
   "metadata": {},
   "outputs": [],
   "source": [
    "# object columns make nan unknown?\n",
    "# drop country column?\n",
    "imdb_df_filtered['aspect_ratio'].value_counts(dropna=False)\n"
   ]
  },
  {
   "cell_type": "code",
   "execution_count": null,
   "metadata": {},
   "outputs": [],
   "source": [
    "imdb_df_filtered.sort_values(by='title_year').head(5)"
   ]
  },
  {
   "cell_type": "code",
   "execution_count": null,
   "metadata": {},
   "outputs": [],
   "source": [
    "imdb_df_filtered.info()"
   ]
  },
  {
   "cell_type": "code",
   "execution_count": null,
   "metadata": {},
   "outputs": [],
   "source": [
    "imdb_df_filtered.isna().sum()"
   ]
  },
  {
   "cell_type": "code",
   "execution_count": null,
   "metadata": {},
   "outputs": [],
   "source": [
    "# Create a figure with two subplots\n",
    "fig, (ax1, ax2) = plt.subplots(1, 2, figsize=(12, 7))\n",
    "\n",
    "# Plot the histogram on the first subplot\n",
    "ax1.hist(imdb_df_filtered['imdb_score'], bins=10, edgecolor='black')\n",
    "ax1.set_title('Histogram')\n",
    "ax1.set_xlabel('IMDB score')\n",
    "ax1.set_ylabel('Frequency')\n",
    "\n",
    "# Plot the boxplot on the second subplot\n",
    "ax2.boxplot(imdb_df_filtered['imdb_score'])\n",
    "ax2.set_title('Boxplot')\n",
    "ax2.set_ylabel('IMDB score')\n",
    "\n",
    "# Show the figure\n",
    "plt.show()"
   ]
  },
  {
   "cell_type": "code",
   "execution_count": null,
   "metadata": {},
   "outputs": [],
   "source": [
    "# Create a figure with two subplots\n",
    "fig, (ax1, ax2) = plt.subplots(1, 2, figsize=(10, 5))\n",
    "\n",
    "# Plot the histogram on the first subplot\n",
    "ax1.hist(imdb_df_filtered['gross'], bins=100, edgecolor='black')\n",
    "ax1.set_title('Histogram')\n",
    "ax1.set_xlabel('Gross')\n",
    "ax1.set_ylabel('Frequency')\n",
    "\n",
    "# Plot the histogram on the first subplot\n",
    "ax2.hist(imdb_df_filtered['budget'], bins=30, edgecolor='black')\n",
    "ax2.set_title('Histogram')\n",
    "ax2.set_xlabel('Budget')\n",
    "ax2.set_ylabel('Frequency')\n",
    "\n",
    "# Show the figure\n",
    "plt.show()"
   ]
  },
  {
   "cell_type": "code",
   "execution_count": null,
   "metadata": {},
   "outputs": [],
   "source": [
    "# gross_na_rows = imdb_df_filtered.loc[imdb_df_filtered['gross'].isna()]\n",
    "# movie_list = gross_na_rows['movie_title'].apply(lambda x: x.strip('\\xa0')).unique()\n",
    "\n",
    "\n",
    "# million_df = tmdb_df_filtered.loc[tmdb_df_filtered['original_title'].isin(movie_list)].sort_values(by='original_title')\n",
    "# million_df\n",
    "\n",
    "# million_df = tmdb_df_filtered[tmdb_df_filtered['original_title'].str.lower().isin([x.lower() for x in movie_list])]\n",
    "# million_df\n"
   ]
  }
 ],
 "metadata": {
  "kernelspec": {
   "display_name": "dev",
   "language": "python",
   "name": "python3"
  },
  "language_info": {
   "codemirror_mode": {
    "name": "ipython",
    "version": 3
   },
   "file_extension": ".py",
   "mimetype": "text/x-python",
   "name": "python",
   "nbconvert_exporter": "python",
   "pygments_lexer": "ipython3",
   "version": "3.10.14"
  }
 },
 "nbformat": 4,
 "nbformat_minor": 2
}
