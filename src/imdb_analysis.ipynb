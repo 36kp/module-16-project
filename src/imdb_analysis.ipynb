{
 "cells": [
  {
   "cell_type": "code",
   "execution_count": 1,
   "metadata": {},
   "outputs": [
    {
     "name": "stdout",
     "output_type": "stream",
     "text": [
      "Hello World!\n",
      "Reading data from ../resources/movie_metadata.csvo\n",
      "File does not exist\n",
      "An error occurred: [Errno 21] Is a directory: '/Users/brianhansen-turton/.cache/kagglehub/datasets/carolzhangdc/imdb-5000-movie-dataset/versions/1'\n"
     ]
    },
    {
     "ename": "NameError",
     "evalue": "name 'file_path' is not defined",
     "output_type": "error",
     "traceback": [
      "\u001b[0;31m---------------------------------------------------------------------------\u001b[0m",
      "\u001b[0;31mNameError\u001b[0m                                 Traceback (most recent call last)",
      "Cell \u001b[0;32mIn[1], line 6\u001b[0m\n\u001b[1;32m      2\u001b[0m \u001b[38;5;28;01mimport\u001b[39;00m \u001b[38;5;21;01mpandas\u001b[39;00m \u001b[38;5;28;01mas\u001b[39;00m \u001b[38;5;21;01mpd\u001b[39;00m\n\u001b[1;32m      4\u001b[0m \u001b[38;5;28mprint\u001b[39m(\u001b[38;5;124m\"\u001b[39m\u001b[38;5;124mHello World!\u001b[39m\u001b[38;5;124m\"\u001b[39m)\n\u001b[0;32m----> 6\u001b[0m pd \u001b[38;5;241m=\u001b[39m imdb_utils\u001b[38;5;241m.\u001b[39maquireIMDbDataFrame()\n\u001b[1;32m      7\u001b[0m pd\u001b[38;5;241m.\u001b[39mhead()\n",
      "File \u001b[0;32m~/UPENN_Code/module-16-project/src/imdb_utils.py:17\u001b[0m, in \u001b[0;36maquireIMDbDataFrame\u001b[0;34m()\u001b[0m\n\u001b[1;32m     15\u001b[0m \u001b[38;5;28;01melse\u001b[39;00m:\n\u001b[1;32m     16\u001b[0m     \u001b[38;5;28mprint\u001b[39m(\u001b[38;5;124m\"\u001b[39m\u001b[38;5;124mFile does not exist\u001b[39m\u001b[38;5;124m\"\u001b[39m)\n\u001b[0;32m---> 17\u001b[0m     \u001b[38;5;28;01mreturn\u001b[39;00m downloadKaggleIMDbFile()\n",
      "File \u001b[0;32m~/UPENN_Code/module-16-project/src/imdb_utils.py:24\u001b[0m, in \u001b[0;36mdownloadKaggleIMDbFile\u001b[0;34m()\u001b[0m\n\u001b[1;32m     22\u001b[0m csv_file \u001b[38;5;241m=\u001b[39m os\u001b[38;5;241m.\u001b[39mpath\u001b[38;5;241m.\u001b[39mjoin(path, path)\n\u001b[1;32m     23\u001b[0m copy_file(csv_file, \u001b[38;5;124m\"\u001b[39m\u001b[38;5;124m../resources/movie_metadata.csv\u001b[39m\u001b[38;5;124m\"\u001b[39m)\n\u001b[0;32m---> 24\u001b[0m \u001b[38;5;28;01mreturn\u001b[39;00m pd\u001b[38;5;241m.\u001b[39mread_csv(file_path)\n",
      "\u001b[0;31mNameError\u001b[0m: name 'file_path' is not defined"
     ]
    }
   ],
   "source": [
    "import imdb_utils\n",
    "import pandas as pd\n",
    "\n",
    "print(\"Hello World!\")\n",
    "\n",
    "pd = imdb_utils.aquireIMDbDataFrame()\n",
    "pd.head()"
   ]
  }
 ],
 "metadata": {
  "kernelspec": {
   "display_name": "base",
   "language": "python",
   "name": "python3"
  },
  "language_info": {
   "codemirror_mode": {
    "name": "ipython",
    "version": 3
   },
   "file_extension": ".py",
   "mimetype": "text/x-python",
   "name": "python",
   "nbconvert_exporter": "python",
   "pygments_lexer": "ipython3",
   "version": "3.12.4"
  }
 },
 "nbformat": 4,
 "nbformat_minor": 2
}
