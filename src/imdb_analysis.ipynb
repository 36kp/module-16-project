{
 "cells": [
  {
   "cell_type": "code",
   "execution_count": null,
   "metadata": {},
   "outputs": [],
   "source": [
    "import utils.fetcher_utils as fetcher\n",
    "import pandas as pd\n",
    "import matplotlib.pyplot as plt\n",
    "from sklearn.preprocessing import LabelEncoder\n",
    "from sklearn.preprocessing import OneHotEncoder\n",
    "from sklearn.model_selection import train_test_split\n"
   ]
  },
  {
   "cell_type": "code",
   "execution_count": null,
   "metadata": {},
   "outputs": [],
   "source": [
    "pd.set_option('display.max_columns', None)"
   ]
  },
  {
   "cell_type": "code",
   "execution_count": null,
   "metadata": {},
   "outputs": [],
   "source": [
    "# Get the data from the IMDb dataFrame\n",
    "imdb_df = fetcher.aquireIMDbDataFrame()\n",
    "imdb_df.head()"
   ]
  },
  {
   "cell_type": "code",
   "execution_count": null,
   "metadata": {},
   "outputs": [],
   "source": [
    "drop_columns = ['movie_imdb_link','aspect_ratio', 'plot_keywords']\n",
    "\n",
    "imdb_df_filtered = imdb_df.drop(columns=drop_columns)\n",
    "imdb_df_filtered = imdb_df_filtered.dropna(subset='title_year')\n"
   ]
  },
  {
   "cell_type": "code",
   "execution_count": null,
   "metadata": {},
   "outputs": [],
   "source": [
    "imdb_df_filtered = imdb_df_filtered[sorted(imdb_df_filtered.columns)]"
   ]
  },
  {
   "cell_type": "code",
   "execution_count": null,
   "metadata": {},
   "outputs": [],
   "source": [
    "imdb_df_filtered = imdb_df_filtered[(imdb_df_filtered['gross']>1_000) & \n",
    "                                    (imdb_df_filtered['budget']>1_000) & \n",
    "                                    (imdb_df_filtered['country'] == 'USA') &\n",
    "                                    (imdb_df['title_year']>1994)].drop(columns='country')\n",
    "imdb_df_filtered.head(5)"
   ]
  },
  {
   "cell_type": "code",
   "execution_count": null,
   "metadata": {},
   "outputs": [],
   "source": [
    "for column in imdb_df_filtered.columns:\n",
    "    if(imdb_df_filtered[column].dtype == 'object'):\n",
    "        print(column)\n",
    "        imdb_df_filtered[column] = imdb_df_filtered[column].fillna('unknown')\n",
    "        imdb_df_filtered[column] = imdb_df_filtered[column].apply(lambda x: x.strip())"
   ]
  },
  {
   "cell_type": "code",
   "execution_count": null,
   "metadata": {},
   "outputs": [],
   "source": [
    "imdb_df_filtered = imdb_df_filtered.fillna(-1)"
   ]
  },
  {
   "cell_type": "code",
   "execution_count": null,
   "metadata": {},
   "outputs": [],
   "source": [
    "imdb_df_filtered.isna().sum()"
   ]
  },
  {
   "cell_type": "code",
   "execution_count": null,
   "metadata": {},
   "outputs": [],
   "source": [
    "# Concatenate with a comma separator\n",
    "imdb_df_filtered['actors'] = imdb_df_filtered[['actor_1_name', 'actor_2_name', 'actor_3_name']].agg(list, axis=1)\n",
    "imdb_df_filtered['actor_facebook_likes'] = imdb_df_filtered[['actor_1_facebook_likes', 'actor_2_facebook_likes', 'actor_3_facebook_likes']].agg(list, axis=1)\n",
    "\n",
    "# join some columns and explode them \n",
    "imdb_df_filtered = imdb_df_filtered.explode(column=['actors', 'actor_facebook_likes']).reset_index(drop=True)\n",
    "\n",
    "\n",
    "imdb_df_filtered"
   ]
  },
  {
   "cell_type": "code",
   "execution_count": null,
   "metadata": {},
   "outputs": [],
   "source": [
    "# Calculate the frequency of each category\n",
    "frequency = imdb_df_filtered['actors'].value_counts()\n",
    "\n",
    "# Map the frequency back to the original dataframe\n",
    "imdb_df_filtered['actors_Encoded'] = imdb_df_filtered['actors'].map(frequency)\n",
    "\n",
    "\n",
    "# Calculate the frequency of each category\n",
    "frequency = imdb_df_filtered['director_name'].value_counts()\n",
    "\n",
    "# Map the frequency back to the original dataframe\n",
    "imdb_df_filtered['directors_Encoded'] = imdb_df_filtered['director_name'].map(frequency)\n",
    "imdb_df_filtered"
   ]
  },
  {
   "cell_type": "code",
   "execution_count": null,
   "metadata": {},
   "outputs": [],
   "source": [
    "processed_df = imdb_df_filtered"
   ]
  },
  {
   "cell_type": "code",
   "execution_count": null,
   "metadata": {},
   "outputs": [],
   "source": [
    "X = processed_df.drop(columns=['imdb_score'])\n",
    "y = processed_df['imdb_score']"
   ]
  },
  {
   "cell_type": "code",
   "execution_count": null,
   "metadata": {},
   "outputs": [],
   "source": [
    "X_train, X_test, y_train, y_test = train_test_split(X, y, random_state=42)"
   ]
  },
  {
   "cell_type": "code",
   "execution_count": null,
   "metadata": {},
   "outputs": [],
   "source": []
  },
  {
   "cell_type": "code",
   "execution_count": null,
   "metadata": {},
   "outputs": [],
   "source": [
    "dummy_columns = ['content_rating', 'color', 'language']\n",
    "for col in dummy_columns:\n",
    "    print(col)\n",
    "    column_dummies = pd.get_dummies(X_train[col], prefix=col, prefix_sep='_', dtype='int') \n",
    "    X_train = pd.concat([X_train, column_dummies], axis=1)\n",
    "    X_train.drop(columns=[col], inplace=True)\n",
    "X_train"
   ]
  },
  {
   "cell_type": "code",
   "execution_count": null,
   "metadata": {},
   "outputs": [],
   "source": [
    "# X_train.info()"
   ]
  },
  {
   "cell_type": "code",
   "execution_count": null,
   "metadata": {},
   "outputs": [],
   "source": [
    "# X_train.describe()"
   ]
  },
  {
   "cell_type": "code",
   "execution_count": null,
   "metadata": {},
   "outputs": [],
   "source": [
    "drop_columns = ['actor_1_facebook_likes', 'actor_1_name', 'actor_2_facebook_likes','actor_2_name', 'actor_3_facebook_likes', 'actor_3_name', 'director_name', 'actors', 'movie_title']"
   ]
  },
  {
   "cell_type": "code",
   "execution_count": null,
   "metadata": {},
   "outputs": [],
   "source": [
    "X_train = X_train.drop(columns=drop_columns).reset_index(drop=True)\n",
    "X_train"
   ]
  },
  {
   "cell_type": "code",
   "execution_count": null,
   "metadata": {},
   "outputs": [],
   "source": [
    "X_train['genres'] = X_train['genres'].apply(lambda x: x.split('|'))\n",
    "genre_dummies = X_train['genres'].explode().str.get_dummies().groupby(level=0).max()\n",
    "X_train = pd.concat([X_train.drop(columns=['genres']), genre_dummies], axis=1)\n",
    "X_train"
   ]
  },
  {
   "cell_type": "code",
   "execution_count": null,
   "metadata": {},
   "outputs": [],
   "source": [
    "imdb_df_filtered['actors_Encoded'].value_counts()"
   ]
  },
  {
   "cell_type": "code",
   "execution_count": null,
   "metadata": {},
   "outputs": [],
   "source": []
  },
  {
   "cell_type": "code",
   "execution_count": null,
   "metadata": {},
   "outputs": [],
   "source": []
  },
  {
   "cell_type": "code",
   "execution_count": null,
   "metadata": {},
   "outputs": [],
   "source": []
  },
  {
   "cell_type": "markdown",
   "metadata": {},
   "source": [
    "# Label Encoder"
   ]
  },
  {
   "cell_type": "code",
   "execution_count": null,
   "metadata": {},
   "outputs": [],
   "source": [
    "##### do we encode before or after splitting data\n",
    "### need to fix \n",
    "\n",
    "# label_encoder = LabelEncoder()\n",
    "# object_columns = imdb_df_filtered.select_dtypes(include='object').columns\n",
    "\n",
    "# for column in object_columns:\n",
    "#     encoded_column = f\"{column}_encoded\"  \n",
    "#     imdb_df_filtered[encoded_column] = label_encoder.fit_transform(imdb_df_filtered[column])"
   ]
  },
  {
   "cell_type": "code",
   "execution_count": null,
   "metadata": {},
   "outputs": [],
   "source": [
    "# imdb_df_filtered['director_name'].value_counts().head(50)"
   ]
  },
  {
   "cell_type": "code",
   "execution_count": null,
   "metadata": {},
   "outputs": [],
   "source": [
    "# imdb_df_numeric = imdb_df_filtered.select_dtypes(include='number')\n",
    "# imdb_df_numeric"
   ]
  },
  {
   "cell_type": "code",
   "execution_count": null,
   "metadata": {},
   "outputs": [],
   "source": [
    "# Create a figure with two subplots\n",
    "fig, (ax1, ax2) = plt.subplots(1, 2, figsize=(12, 7))\n",
    "\n",
    "# Plot the histogram on the first subplot\n",
    "ax1.hist(imdb_df_filtered['imdb_score'], bins=10, edgecolor='black')\n",
    "ax1.set_title('Histogram')\n",
    "ax1.set_xlabel('IMDB score')\n",
    "ax1.set_ylabel('Frequency')\n",
    "\n",
    "# Plot the boxplot on the second subplot\n",
    "ax2.boxplot(imdb_df_filtered['imdb_score'])\n",
    "ax2.set_title('Boxplot')\n",
    "ax2.set_ylabel('IMDB score')\n",
    "\n",
    "# Show the figure\n",
    "plt.show()"
   ]
  },
  {
   "cell_type": "code",
   "execution_count": null,
   "metadata": {},
   "outputs": [],
   "source": [
    "# Create a figure with two subplots\n",
    "fig, (ax1, ax2) = plt.subplots(1, 2, figsize=(10, 5))\n",
    "\n",
    "# Plot the histogram on the first subplot\n",
    "ax1.hist(imdb_df_filtered['gross'], bins=100, edgecolor='black')\n",
    "ax1.set_title('Histogram')\n",
    "ax1.set_xlabel('Gross')\n",
    "ax1.set_ylabel('Frequency')\n",
    "\n",
    "# Plot the histogram on the first subplot\n",
    "ax2.hist(imdb_df_filtered['budget'], bins=30, edgecolor='black')\n",
    "ax2.set_title('Histogram')\n",
    "ax2.set_xlabel('Budget')\n",
    "ax2.set_ylabel('Frequency')\n",
    "\n",
    "# Show the figure\n",
    "plt.show()"
   ]
  },
  {
   "cell_type": "code",
   "execution_count": null,
   "metadata": {},
   "outputs": [],
   "source": [
    "# gross_na_rows = imdb_df_filtered.loc[imdb_df_filtered['gross'].isna()]\n",
    "# movie_list = gross_na_rows['movie_title'].apply(lambda x: x.strip('\\xa0')).unique()\n",
    "\n",
    "\n",
    "# million_df = tmdb_df_filtered.loc[tmdb_df_filtered['original_title'].isin(movie_list)].sort_values(by='original_title')\n",
    "# million_df\n",
    "\n",
    "# million_df = tmdb_df_filtered[tmdb_df_filtered['original_title'].str.lower().isin([x.lower() for x in movie_list])]\n",
    "# million_df\n"
   ]
  },
  {
   "cell_type": "code",
   "execution_count": null,
   "metadata": {},
   "outputs": [],
   "source": [
    "# Sample data\n",
    "data = {\n",
    "    'Category': ['A', 'B', 'A', 'C', 'B', 'C', 'A', 'D', 'E', 'C'],\n",
    "    'Target': [1, 0, 1, 0, 1, 0, 1, 1, 0, 0]\n",
    "}\n",
    "df = pd.DataFrame(data)\n",
    "\n",
    "# Calculate the mean of the target for each category\n",
    "target_mean = df.groupby('Category')['Target'].mean()\n",
    "\n",
    "# Map the mean back to the original dataframe\n",
    "df['Category_Encoded'] = df['Category'].map(target_mean)"
   ]
  },
  {
   "cell_type": "code",
   "execution_count": null,
   "metadata": {},
   "outputs": [],
   "source": [
    "len(set(imdb_df_filtered.groupby('actor_1_name')['imdb_score'].mean().values))"
   ]
  },
  {
   "cell_type": "code",
   "execution_count": null,
   "metadata": {},
   "outputs": [],
   "source": [
    "target_mean"
   ]
  },
  {
   "cell_type": "code",
   "execution_count": null,
   "metadata": {},
   "outputs": [],
   "source": [
    "df"
   ]
  }
 ],
 "metadata": {
  "kernelspec": {
   "display_name": "dev",
   "language": "python",
   "name": "python3"
  },
  "language_info": {
   "codemirror_mode": {
    "name": "ipython",
    "version": 3
   },
   "file_extension": ".py",
   "mimetype": "text/x-python",
   "name": "python",
   "nbconvert_exporter": "python",
   "pygments_lexer": "ipython3",
   "version": "3.10.14"
  }
 },
 "nbformat": 4,
 "nbformat_minor": 2
}
