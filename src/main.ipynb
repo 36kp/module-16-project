{
 "cells": [
  {
   "cell_type": "code",
   "execution_count": null,
   "metadata": {},
   "outputs": [],
   "source": [
    "import pandas as pd\n",
    "import utils.fetcher_utils as fetcher\n",
    "import utils.pipeline_util as pu\n",
    "import utils.transformer_util as tu\n",
    "from utils.prediction_builder import PredictionDFBuilder\n",
    "import numpy as np\n",
    "import IMDb_Predictor_GUI_II as gui\n",
    "import tkinter as tk\n",
    "from tkinter import ttk"
   ]
  },
  {
   "cell_type": "code",
   "execution_count": null,
   "metadata": {},
   "outputs": [],
   "source": [
    "%gui tk"
   ]
  },
  {
   "cell_type": "code",
   "execution_count": null,
   "metadata": {},
   "outputs": [],
   "source": [
    "# set pandas options\n",
    "pd.set_option('display.max_columns', None)"
   ]
  },
  {
   "cell_type": "code",
   "execution_count": null,
   "metadata": {},
   "outputs": [],
   "source": [
    "# fetch the data \n",
    "df = fetcher.aquireIMDbDataFrame()\n",
    "df.head()"
   ]
  },
  {
   "cell_type": "code",
   "execution_count": null,
   "metadata": {},
   "outputs": [],
   "source": [
    "# run the pipeline and get the model and predictions\n",
    "model, best_y_pred, preprocessed_df = pu.run_pipeline(data=df, use_PCA=False, debug=False)"
   ]
  },
  {
   "cell_type": "code",
   "execution_count": null,
   "metadata": {},
   "outputs": [],
   "source": [
    "# describe the predictions\n",
    "pd.Series(best_y_pred).describe()"
   ]
  },
  {
   "cell_type": "code",
   "execution_count": null,
   "metadata": {},
   "outputs": [],
   "source": [
    "# create a prediction dataframe for testing\n",
    "builder = PredictionDFBuilder(df)\n",
    "prediction_df = (\n",
    "    builder\n",
    "    .add_actor_1(\"Clint Eastwood\")\n",
    "    .add_actor_2(\"Meryl Streep\")\n",
    "    .add_actor_3(\"Tom Hanks\")\n",
    "    .add_director(\"Gore Verbinski\")\n",
    "    .add_rating(\"PG-13\")\n",
    "    .add_genre(\"Thriller\")\n",
    "    .build()\n",
    ")\n",
    "\n",
    "prediction_df\n"
   ]
  },
  {
   "cell_type": "code",
   "execution_count": null,
   "metadata": {},
   "outputs": [],
   "source": [
    "# predict the test data without GUI\n",
    "prediction = model.predict(prediction_df)\n",
    "print(f\"Predicted IMDb Score: {prediction[0]}\")"
   ]
  },
  {
   "cell_type": "code",
   "execution_count": null,
   "metadata": {},
   "outputs": [],
   "source": [
    "# run the GUI to get user input and display the prediction\n",
    "root = tk.Tk()\n",
    "gui = gui.PredictionDFBuilderGUI(root, df, model)\n",
    "root.mainloop()\n"
   ]
  }
 ],
 "metadata": {
  "kernelspec": {
   "display_name": "dev",
   "language": "python",
   "name": "python3"
  },
  "language_info": {
   "codemirror_mode": {
    "name": "ipython",
    "version": 3
   },
   "file_extension": ".py",
   "mimetype": "text/x-python",
   "name": "python",
   "nbconvert_exporter": "python",
   "pygments_lexer": "ipython3",
   "version": "3.10.14"
  }
 },
 "nbformat": 4,
 "nbformat_minor": 2
}
