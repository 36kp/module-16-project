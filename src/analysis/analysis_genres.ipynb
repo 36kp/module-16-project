{
 "cells": [
  {
   "cell_type": "code",
   "execution_count": null,
   "metadata": {},
   "outputs": [],
   "source": [
    "import pandas as pd\n",
    "import matplotlib.pyplot as plt"
   ]
  },
  {
   "cell_type": "code",
   "execution_count": null,
   "metadata": {},
   "outputs": [],
   "source": [
    "# set pandas options\n",
    "pd.set_option('display.max_columns', None)"
   ]
  },
  {
   "cell_type": "code",
   "execution_count": null,
   "metadata": {},
   "outputs": [],
   "source": [
    "# fetch the data \n",
    "df = pd.read_csv('../../resources/movie_metadata.csv')\n",
    "df.head()"
   ]
  },
  {
   "cell_type": "code",
   "execution_count": null,
   "metadata": {},
   "outputs": [],
   "source": [
    "df['genres']"
   ]
  },
  {
   "cell_type": "code",
   "execution_count": null,
   "metadata": {},
   "outputs": [],
   "source": [
    "df['genres'].value_counts()"
   ]
  },
  {
   "cell_type": "code",
   "execution_count": null,
   "metadata": {},
   "outputs": [],
   "source": [
    "df['genres'].isnull().sum() "
   ]
  },
  {
   "cell_type": "code",
   "execution_count": null,
   "metadata": {},
   "outputs": [],
   "source": [
    "def _process_genres(data: pd.DataFrame) -> pd.DataFrame:\n",
    "    '''\n",
    "    Processes the 'genres' column in a Pandas DataFrame by splitting genres into individual binary columns\n",
    "    and grouping less frequent genres into an \"other_genre\" category.\n",
    "\n",
    "    This function:\n",
    "    - Fills missing values in the 'genres' column with \"other_genre\".\n",
    "    - Splits the pipe-separated genres into lists.\n",
    "    - Identifies genres that appear in more than 10% of the rows as \"frequent genres\".\n",
    "    - Creates binary columns for each frequent genre, where 1 indicates the presence of the genre in the row.\n",
    "    - Creates an \"other_genre\" binary column to indicate the presence of infrequent genres.\n",
    "    - Drops the original 'genres' column from the DataFrame.\n",
    "\n",
    "    Parameters:\n",
    "    data : pd.DataFrame\n",
    "        The input DataFrame containing a 'genres' column to process. The column should contain \n",
    "        pipe-separated genre strings (e.g., \"Action|Comedy|Drama\").\n",
    "\n",
    "    Returns:\n",
    "    pd.DataFrame\n",
    "        A modified DataFrame with:\n",
    "        - Binary columns for each frequent genre.\n",
    "        - An \"other_genre\" column for infrequent genres.\n",
    "        - The original 'genres' column removed.\n",
    "    '''    \n",
    "    data['genres'] = data['genres'].fillna(\"other_genre\")\n",
    "    data['genres'] = data['genres'].str.split('|')\n",
    "    all_genres = [genre for sublist in data['genres'] for genre in sublist]\n",
    "    genre_counts = pd.Series(all_genres).value_counts()\n",
    "    threshold = len(data) * 0.1\n",
    "    frequent_genres = genre_counts[genre_counts > threshold].index\n",
    "    for genre in frequent_genres:\n",
    "        data[genre] = data['genres'].apply(lambda x: genre in x).astype(int)\n",
    "\n",
    "    data['other_genre'] = data['genres'].apply(lambda x: any(genre not in frequent_genres for genre in x)).astype(int)\n",
    "    data = data.drop(columns=['genres'])\n",
    "    return data"
   ]
  },
  {
   "cell_type": "code",
   "execution_count": null,
   "metadata": {},
   "outputs": [],
   "source": [
    "df = _process_genres(df)\n",
    "df\n"
   ]
  },
  {
   "cell_type": "code",
   "execution_count": null,
   "metadata": {},
   "outputs": [],
   "source": [
    "columns_to_plot = [\n",
    "    \"Drama\", \"Comedy\", \"Thriller\", \"Action\", \"Romance\", \n",
    "    \"Adventure\", \"Crime\", \"Sci-Fi\", \"Fantasy\", \"Horror\", \n",
    "    \"Family\", \"other_genre\"\n",
    "]\n",
    "genre_counts = df[columns_to_plot].sum()\n",
    "plt.figure(figsize=(12, 6))\n",
    "genre_counts.plot(kind='bar', alpha=0.8, color='mediumpurple')\n",
    "plt.title(\"Genre Distribution\", fontsize=16)\n",
    "plt.xlabel(\"Genres\", fontsize=12)\n",
    "plt.ylabel(\"Count\", fontsize=12)\n",
    "plt.xticks(rotation=45, fontsize=10)\n",
    "plt.grid(axis='y', linestyle='--', alpha=0.7)\n",
    "plt.tight_layout()\n",
    "\n",
    "# Display the plot\n",
    "plt.show()\n"
   ]
  }
 ],
 "metadata": {
  "kernelspec": {
   "display_name": "dev",
   "language": "python",
   "name": "python3"
  },
  "language_info": {
   "codemirror_mode": {
    "name": "ipython",
    "version": 3
   },
   "file_extension": ".py",
   "mimetype": "text/x-python",
   "name": "python",
   "nbconvert_exporter": "python",
   "pygments_lexer": "ipython3",
   "version": "3.10.14"
  }
 },
 "nbformat": 4,
 "nbformat_minor": 2
}
