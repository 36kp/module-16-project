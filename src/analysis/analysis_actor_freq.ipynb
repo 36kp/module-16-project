{
 "cells": [
  {
   "cell_type": "code",
   "execution_count": null,
   "metadata": {},
   "outputs": [],
   "source": [
    "import sys\n",
    "from pathlib import Path\n",
    "sys.path.append(str(Path.cwd().parent))"
   ]
  },
  {
   "cell_type": "code",
   "execution_count": null,
   "metadata": {},
   "outputs": [],
   "source": [
    "import pandas as pd\n",
    "import utils.fetcher_utils as fetcher\n",
    "import utils.preprocess_util as preproc\n",
    "\n",
    "import matplotlib.pyplot as plt\n"
   ]
  },
  {
   "cell_type": "code",
   "execution_count": null,
   "metadata": {},
   "outputs": [],
   "source": [
    "# set pandas options\n",
    "pd.set_option('display.max_columns', None)"
   ]
  },
  {
   "cell_type": "code",
   "execution_count": null,
   "metadata": {},
   "outputs": [],
   "source": [
    "# fetch the data \n",
    "df = fetcher.aquireIMDbDataFrame(\"../../resources\")\n",
    "df.head()"
   ]
  },
  {
   "cell_type": "code",
   "execution_count": null,
   "metadata": {},
   "outputs": [],
   "source": [
    "print(df['actor_1_name'].value_counts().head(10))\n",
    "print(df['actor_2_name'].value_counts().head(10))\n",
    "print(df['actor_3_name'].value_counts().head(10))"
   ]
  },
  {
   "cell_type": "code",
   "execution_count": null,
   "metadata": {},
   "outputs": [],
   "source": [
    "print(df['actor_1_name'].isnull().sum())\n",
    "print(df['actor_3_name'].isnull().sum())\n",
    "print(df['actor_3_name'].isnull().sum())\n"
   ]
  },
  {
   "cell_type": "code",
   "execution_count": null,
   "metadata": {},
   "outputs": [],
   "source": [
    "df['actor_1_name'] = df['actor_1_name'].fillna('unknown_actor_1_name')\n",
    "df['actor_2_name'] = df['actor_2_name'].fillna('unknown_actor_2_name')\n",
    "df['actor_3_name'] = df['actor_3_name'].fillna('unknown_actor_3_name')\n"
   ]
  },
  {
   "cell_type": "code",
   "execution_count": null,
   "metadata": {},
   "outputs": [],
   "source": [
    "print(df['actor_1_name'].isnull().sum())\n",
    "print(df['actor_3_name'].isnull().sum())\n",
    "print(df['actor_3_name'].isnull().sum())"
   ]
  },
  {
   "cell_type": "code",
   "execution_count": null,
   "metadata": {},
   "outputs": [],
   "source": [
    "test_df = preproc._actor_frequency(df) #test only \n",
    "test_df"
   ]
  },
  {
   "cell_type": "code",
   "execution_count": null,
   "metadata": {},
   "outputs": [],
   "source": [
    "# Plot actor frequencies\n",
    "plt.figure(figsize=(10, 6))\n",
    "\n",
    "# Plot each frequency column as a line\n",
    "plt.plot(df.index, df['actor_1_frequency'], marker='o', label='Actor 1 Frequency')\n",
    "plt.plot(df.index, df['actor_2_frequency'], marker='s', label='Actor 2 Frequency')\n",
    "plt.plot(df.index, df['actor_3_frequency'], marker='^', label='Actor 3 Frequency')\n",
    "\n",
    "# Add labels, title, and legend\n",
    "plt.title(\"Actor Frequencies by Role\", fontsize=16)\n",
    "plt.xlabel(\"Row Index\", fontsize=12)\n",
    "plt.ylabel(\"Frequency\", fontsize=12)\n",
    "plt.xticks(df.index)\n",
    "plt.legend(title=\"Actor Role\", fontsize=10)\n",
    "plt.grid(axis='y', linestyle='--', alpha=0.7)\n",
    "plt.tight_layout()\n",
    "\n",
    "# Display the plot\n",
    "plt.show()"
   ]
  }
 ],
 "metadata": {
  "kernelspec": {
   "display_name": "base",
   "language": "python",
   "name": "python3"
  },
  "language_info": {
   "codemirror_mode": {
    "name": "ipython",
    "version": 3
   },
   "file_extension": ".py",
   "mimetype": "text/x-python",
   "name": "python",
   "nbconvert_exporter": "python",
   "pygments_lexer": "ipython3",
   "version": "3.12.4"
  }
 },
 "nbformat": 4,
 "nbformat_minor": 2
}
