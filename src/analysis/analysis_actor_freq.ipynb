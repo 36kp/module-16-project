{
 "cells": [
  {
   "cell_type": "code",
   "execution_count": null,
   "metadata": {},
   "outputs": [],
   "source": [
    "import pandas as pd\n",
    "import matplotlib.pyplot as plt"
   ]
  },
  {
   "cell_type": "code",
   "execution_count": null,
   "metadata": {},
   "outputs": [],
   "source": [
    "# set pandas options\n",
    "pd.set_option('display.max_columns', None)"
   ]
  },
  {
   "cell_type": "code",
   "execution_count": null,
   "metadata": {},
   "outputs": [],
   "source": [
    "# fetch the data \n",
    "df = pd.read_csv(\"../../resources/movie_metadata.csv\")\n",
    "df.head()"
   ]
  },
  {
   "cell_type": "code",
   "execution_count": null,
   "metadata": {},
   "outputs": [],
   "source": [
    "print(df['actor_1_name'].value_counts().head(10))\n",
    "print(df['actor_2_name'].value_counts().head(10))\n",
    "print(df['actor_3_name'].value_counts().head(10))"
   ]
  },
  {
   "cell_type": "code",
   "execution_count": null,
   "metadata": {},
   "outputs": [],
   "source": [
    "print(df['actor_1_name'].isnull().sum())\n",
    "print(df['actor_3_name'].isnull().sum())\n",
    "print(df['actor_3_name'].isnull().sum())"
   ]
  },
  {
   "cell_type": "code",
   "execution_count": null,
   "metadata": {},
   "outputs": [],
   "source": [
    "df['actor_1_name'] = df['actor_1_name'].fillna('unknown_actor_1_name')\n",
    "df['actor_2_name'] = df['actor_2_name'].fillna('unknown_actor_2_name')\n",
    "df['actor_3_name'] = df['actor_3_name'].fillna('unknown_actor_3_name')"
   ]
  },
  {
   "cell_type": "code",
   "execution_count": null,
   "metadata": {},
   "outputs": [],
   "source": [
    "print(df['actor_1_name'].isnull().sum())\n",
    "print(df['actor_3_name'].isnull().sum())\n",
    "print(df['actor_3_name'].isnull().sum())"
   ]
  },
  {
   "cell_type": "code",
   "execution_count": null,
   "metadata": {},
   "outputs": [],
   "source": [
    "def _actor_frequency(data: pd.DataFrame) -> pd.DataFrame:\n",
    "    '''\n",
    "    Calculates the frequency of actors in a dataset and creates a total frequency column for each row.\n",
    "\n",
    "    This function:\n",
    "    - Fills missing values in the 'actor_1_name', 'actor_2_name', and 'actor_3_name' columns with unique placeholders.\n",
    "    - Combines all actor columns into a single series to compute the frequency of each actor.\n",
    "    - Maps the actor frequencies to individual columns for each actor (actor_1_frequency, actor_2_frequency, actor_3_frequency).\n",
    "    - Calculates a new column, 'total_actor_frequency', as the sum of the frequencies of all three actors in each row.\n",
    "    - Removes the original actor name columns and the intermediate frequency columns from the DataFrame.\n",
    "\n",
    "    Parameters:\n",
    "    data : pd.DataFrame\n",
    "        The input DataFrame containing 'actor_1_name', 'actor_2_name', and 'actor_3_name' columns.\n",
    "\n",
    "    Returns:\n",
    "    pd.DataFrame\n",
    "        A modified DataFrame with:\n",
    "        - A 'total_actor_frequency' column representing the combined frequency of all three actors in each row.\n",
    "        - The original actor name columns ('actor_1_name', 'actor_2_name', 'actor_3_name') removed.\n",
    "        - The intermediate actor frequency columns ('actor_1_frequency', 'actor_2_frequency', 'actor_3_frequency') removed.\n",
    "    '''    \n",
    "    data['actor_1_name'] = data['actor_1_name'].fillna('unknown_actor_1_name')\n",
    "    data['actor_2_name'] = data['actor_2_name'].fillna('unknown_actor_2_name')\n",
    "    data['actor_3_name'] = data['actor_3_name'].fillna('unknown_actor_3_name')\n",
    "    all_actors = pd.concat([data['actor_1_name'], data['actor_2_name'], data['actor_3_name']])\n",
    "    actor_frequencies = all_actors.value_counts()\n",
    "    data['actor_1_frequency'] = data['actor_1_name'].map(actor_frequencies)\n",
    "    data['actor_2_frequency'] = data['actor_2_name'].map(actor_frequencies)\n",
    "    data['actor_3_frequency'] = data['actor_3_name'].map(actor_frequencies)\n",
    "    data['total_actor_frequency'] = data['actor_1_frequency'] + data['actor_2_frequency'] + data['actor_3_frequency']\n",
    "    data = data.drop(columns=['actor_1_name','actor_2_name','actor_3_name'])\n",
    "    data = data.drop(columns=['actor_1_frequency','actor_2_frequency','actor_3_frequency'])\n",
    "    return data"
   ]
  },
  {
   "cell_type": "code",
   "execution_count": null,
   "metadata": {},
   "outputs": [],
   "source": [
    "# preprocess actor experiences\n",
    "test_df = _actor_frequency(df) #test only \n",
    "test_df"
   ]
  },
  {
   "cell_type": "code",
   "execution_count": null,
   "metadata": {},
   "outputs": [],
   "source": [
    "# Plot actor frequencies\n",
    "plt.figure(figsize=(10, 6))\n",
    "\n",
    "# Plot each frequency column as a line\n",
    "plt.plot(df.index, df['actor_1_frequency'], marker='o', label='Actor 1 Frequency')\n",
    "plt.plot(df.index, df['actor_2_frequency'], marker='s', label='Actor 2 Frequency')\n",
    "plt.plot(df.index, df['actor_3_frequency'], marker='^', label='Actor 3 Frequency')\n",
    "\n",
    "# Add labels, title, and legend\n",
    "plt.title(\"Actor Frequencies by Role\", fontsize=16)\n",
    "plt.xlabel(\"Row Index\", fontsize=12)\n",
    "plt.ylabel(\"Frequency\", fontsize=12)\n",
    "plt.xticks(df.index)\n",
    "plt.legend(title=\"Actor Role\", fontsize=10)\n",
    "plt.grid(axis='y', linestyle='--', alpha=0.7)\n",
    "plt.tight_layout()\n",
    "\n",
    "# Display the plot\n",
    "plt.show()"
   ]
  }
 ],
 "metadata": {
  "kernelspec": {
   "display_name": "dev",
   "language": "python",
   "name": "python3"
  },
  "language_info": {
   "codemirror_mode": {
    "name": "ipython",
    "version": 3
   },
   "file_extension": ".py",
   "mimetype": "text/x-python",
   "name": "python",
   "nbconvert_exporter": "python",
   "pygments_lexer": "ipython3",
   "version": "3.10.14"
  }
 },
 "nbformat": 4,
 "nbformat_minor": 2
}
