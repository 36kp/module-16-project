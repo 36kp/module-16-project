{
 "cells": [
  {
   "cell_type": "code",
   "execution_count": null,
   "metadata": {},
   "outputs": [],
   "source": [
    "import sys\n",
    "sys.path.insert(0, '../')"
   ]
  },
  {
   "cell_type": "code",
   "execution_count": null,
   "metadata": {},
   "outputs": [],
   "source": [
    "import pandas as pd\n",
    "import matplotlib.pyplot as plt\n",
    "from sklearn.preprocessing import OneHotEncoder\n",
    "from sklearn.model_selection import train_test_split\n",
    "import utils.preprocess_util as preproc\n"
   ]
  },
  {
   "cell_type": "code",
   "execution_count": null,
   "metadata": {},
   "outputs": [],
   "source": [
    "pd.set_option('display.max_columns', None)"
   ]
  },
  {
   "cell_type": "code",
   "execution_count": null,
   "metadata": {},
   "outputs": [],
   "source": [
    "# Get the data from the IMDb dataFrame\n",
    "imdb_df = pd.read_csv('../../resources/movie_metadata.csv')\n",
    "imdb_df.head()"
   ]
  },
  {
   "cell_type": "code",
   "execution_count": null,
   "metadata": {},
   "outputs": [],
   "source": [
    "# drop columns that are not useful\n",
    "drop_columns = ['movie_imdb_link','aspect_ratio', 'plot_keywords']\n",
    "imdb_df_filtered = imdb_df.drop(columns=drop_columns)\n",
    "imdb_df_filtered = imdb_df_filtered.dropna(subset='title_year')\n"
   ]
  },
  {
   "cell_type": "code",
   "execution_count": null,
   "metadata": {},
   "outputs": [],
   "source": [
    "imdb_X_train_filtered = imdb_df_filtered[sorted(imdb_df_filtered.columns)]"
   ]
  },
  {
   "cell_type": "code",
   "execution_count": null,
   "metadata": {},
   "outputs": [],
   "source": [
    "# create a targeted dataframe with gross and budget over $1000, country is USA and title year is after 1994\n",
    "imdb_df_filtered = imdb_df_filtered[(imdb_df_filtered['gross']>1_000) & \n",
    "                                    (imdb_df_filtered['budget']>1_000) & \n",
    "                                    (imdb_df_filtered['country'] == 'USA') &\n",
    "                                    (imdb_df['title_year']>1994)].drop(columns='country').reset_index(drop=True)\n",
    "imdb_df_filtered"
   ]
  },
  {
   "cell_type": "code",
   "execution_count": null,
   "metadata": {},
   "outputs": [],
   "source": [
    "# drop null values\n",
    "imdb_df_filtered.dropna(inplace=True)"
   ]
  },
  {
   "cell_type": "code",
   "execution_count": null,
   "metadata": {},
   "outputs": [],
   "source": [
    "# prepare for splitting the data\n",
    "X = imdb_df_filtered.drop(columns=['imdb_score'])\n",
    "y = imdb_df_filtered['imdb_score']"
   ]
  },
  {
   "cell_type": "code",
   "execution_count": null,
   "metadata": {},
   "outputs": [],
   "source": [
    "X_train, X_test, y_train, y_test = train_test_split(X, y, random_state=42)"
   ]
  },
  {
   "cell_type": "code",
   "execution_count": null,
   "metadata": {},
   "outputs": [],
   "source": [
    "X_train"
   ]
  },
  {
   "cell_type": "code",
   "execution_count": null,
   "metadata": {},
   "outputs": [],
   "source": [
    "X_train.info()"
   ]
  },
  {
   "cell_type": "code",
   "execution_count": null,
   "metadata": {},
   "outputs": [],
   "source": [
    "# perform preprocessing on frequency\n",
    "X_train = preproc._director_frequency(X_train)\n",
    "X_train\n"
   ]
  },
  {
   "cell_type": "code",
   "execution_count": null,
   "metadata": {},
   "outputs": [],
   "source": [
    "X_train.info()"
   ]
  },
  {
   "cell_type": "code",
   "execution_count": null,
   "metadata": {},
   "outputs": [],
   "source": [
    "# perform preprocessing on genres\n",
    "X_train = preproc._process_genres(X_train)\n",
    "X_train"
   ]
  },
  {
   "cell_type": "code",
   "execution_count": null,
   "metadata": {},
   "outputs": [],
   "source": [
    "X_train.info()"
   ]
  },
  {
   "cell_type": "code",
   "execution_count": null,
   "metadata": {},
   "outputs": [],
   "source": [
    "# perform preprocessing on content rating\n",
    "content_rating_replaced_df = preproc._bucket_contentRatings(X_train)\n",
    "content_rating_replaced_df"
   ]
  },
  {
   "cell_type": "code",
   "execution_count": null,
   "metadata": {},
   "outputs": [],
   "source": [
    "content_rating_replaced_df.info()"
   ]
  },
  {
   "cell_type": "code",
   "execution_count": null,
   "metadata": {},
   "outputs": [],
   "source": [
    "X_train.info()"
   ]
  },
  {
   "cell_type": "code",
   "execution_count": null,
   "metadata": {},
   "outputs": [],
   "source": [
    "# encode the content rating\n",
    "encoder = OneHotEncoder(sparse_output=False)  \n",
    "content_rating_encoded = encoder.fit_transform(content_rating_replaced_df[[\"rating_bin\"]])\n",
    "content_rating_encoded = pd.DataFrame(content_rating_encoded, columns=encoder.get_feature_names_out([\"rating_bin\"]))\n",
    "content_rating_encoded"
   ]
  },
  {
   "cell_type": "code",
   "execution_count": null,
   "metadata": {},
   "outputs": [],
   "source": [
    "content_rating_encoded.info()"
   ]
  },
  {
   "cell_type": "code",
   "execution_count": null,
   "metadata": {},
   "outputs": [],
   "source": [
    "X_train.info()"
   ]
  },
  {
   "cell_type": "code",
   "execution_count": null,
   "metadata": {},
   "outputs": [],
   "source": [
    "X_train = pd.concat([X_train.reset_index(drop=True), content_rating_encoded], axis=1)\n",
    "X_train"
   ]
  },
  {
   "cell_type": "code",
   "execution_count": null,
   "metadata": {},
   "outputs": [],
   "source": [
    "# preprocess actor experience\n",
    "X_train = preproc._actor_frequency(X_train)\n",
    "X_train"
   ]
  },
  {
   "cell_type": "code",
   "execution_count": null,
   "metadata": {},
   "outputs": [],
   "source": [
    "# combine the facebook likes\n",
    "X_train['total_facebook_likes'] = X_train['actor_1_facebook_likes'] + X_train['actor_2_facebook_likes'] + X_train['actor_3_facebook_likes']\n",
    "X_train"
   ]
  },
  {
   "cell_type": "code",
   "execution_count": null,
   "metadata": {},
   "outputs": [],
   "source": [
    "# drop processed columns\n",
    "drop_columns = ['actor_1_facebook_likes', 'actor_2_facebook_likes','actor_3_facebook_likes',\n",
    "                'color','language','movie_title'\n",
    "                ]\n",
    "\n",
    "X_train = X_train.drop(columns=drop_columns)\n",
    "X_train"
   ]
  },
  {
   "cell_type": "code",
   "execution_count": null,
   "metadata": {},
   "outputs": [],
   "source": [
    "# Create a figure with two subplots\n",
    "fig, (ax1, ax2) = plt.subplots(1, 2, figsize=(12, 7))\n",
    "\n",
    "# Plot the histogram on the first subplot\n",
    "ax1.hist(imdb_df_filtered['imdb_score'], bins=10, edgecolor='black')\n",
    "ax1.set_title('Histogram')\n",
    "ax1.set_xlabel('IMDB score')\n",
    "ax1.set_ylabel('Frequency')\n",
    "\n",
    "# Plot the boxplot on the second subplot\n",
    "ax2.boxplot(imdb_df_filtered['imdb_score'])\n",
    "ax2.set_title('Boxplot')\n",
    "ax2.set_ylabel('IMDB score')\n",
    "\n",
    "# Show the figure\n",
    "plt.show()"
   ]
  },
  {
   "cell_type": "code",
   "execution_count": null,
   "metadata": {},
   "outputs": [],
   "source": [
    "# Create a figure with two subplots\n",
    "fig, (ax1, ax2) = plt.subplots(1, 2, figsize=(10, 5))\n",
    "\n",
    "# Plot the histogram on the first subplot\n",
    "ax1.hist(imdb_df_filtered['gross'], bins=100, edgecolor='black')\n",
    "ax1.set_title('Histogram')\n",
    "ax1.set_xlabel('Gross')\n",
    "ax1.set_ylabel('Frequency')\n",
    "\n",
    "# Plot the histogram on the first subplot\n",
    "ax2.hist(imdb_df_filtered['budget'], bins=30, edgecolor='black')\n",
    "ax2.set_title('Histogram')\n",
    "ax2.set_xlabel('Budget')\n",
    "ax2.set_ylabel('Frequency')\n",
    "\n",
    "# Show the figure\n",
    "plt.show()"
   ]
  },
  {
   "cell_type": "code",
   "execution_count": null,
   "metadata": {},
   "outputs": [],
   "source": [
    "# Sample data\n",
    "data = {\n",
    "    'Category': ['A', 'B', 'A', 'C', 'B', 'C', 'A', 'D', 'E', 'C'],\n",
    "    'Target': [1, 0, 1, 0, 1, 0, 1, 1, 0, 0]\n",
    "}\n",
    "df = pd.DataFrame(data)\n",
    "\n",
    "# Calculate the mean of the target for each category\n",
    "target_mean = df.groupby('Category')['Target'].mean()\n",
    "\n",
    "# Map the mean back to the original dataframe\n",
    "df['Category_Encoded'] = df['Category'].map(target_mean)"
   ]
  }
 ],
 "metadata": {
  "kernelspec": {
   "display_name": "dev",
   "language": "python",
   "name": "python3"
  },
  "language_info": {
   "codemirror_mode": {
    "name": "ipython",
    "version": 3
   },
   "file_extension": ".py",
   "mimetype": "text/x-python",
   "name": "python",
   "nbconvert_exporter": "python",
   "pygments_lexer": "ipython3",
   "version": "3.10.14"
  }
 },
 "nbformat": 4,
 "nbformat_minor": 2
}
