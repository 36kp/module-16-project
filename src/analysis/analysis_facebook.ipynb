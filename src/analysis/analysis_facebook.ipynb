{
 "cells": [
  {
   "cell_type": "code",
   "execution_count": null,
   "metadata": {},
   "outputs": [],
   "source": [
    "import pandas as pd\n",
    "import matplotlib.pyplot as plt\n",
    "from scipy.stats import zscore"
   ]
  },
  {
   "cell_type": "code",
   "execution_count": null,
   "metadata": {},
   "outputs": [],
   "source": [
    "# set pandas options\n",
    "pd.set_option('display.max_columns', None)"
   ]
  },
  {
   "cell_type": "code",
   "execution_count": null,
   "metadata": {},
   "outputs": [],
   "source": [
    "# fetch the data \n",
    "df = pd.read_csv('../../resources/movie_metadata.csv')\n",
    "df.head()"
   ]
  },
  {
   "cell_type": "code",
   "execution_count": null,
   "metadata": {},
   "outputs": [],
   "source": [
    "print(df['actor_1_facebook_likes'].isnull().sum())\n",
    "print(df['actor_2_facebook_likes'].isnull().sum())\n",
    "print(df['actor_3_facebook_likes'].isnull().sum())"
   ]
  },
  {
   "cell_type": "code",
   "execution_count": null,
   "metadata": {},
   "outputs": [],
   "source": [
    "def _sum_actor_facebook_likes(data: pd.DataFrame) -> pd.DataFrame:\n",
    "    '''\n",
    "    Calculates the total Facebook likes for all actors in each row of a dataset.\n",
    "\n",
    "    This function:\n",
    "    - Fills missing values in the 'actor_1_facebook_likes', 'actor_2_facebook_likes', and \n",
    "      'actor_3_facebook_likes' columns with 0.\n",
    "    - Sums the Facebook likes across these three columns to create a new column named \n",
    "      'actor_total_facebook_likes'.\n",
    "    - Removes the original columns for individual actor Facebook likes from the DataFrame.\n",
    "\n",
    "    Parameters:\n",
    "    data : pd.DataFrame\n",
    "        The input DataFrame containing 'actor_1_facebook_likes', 'actor_2_facebook_likes', \n",
    "        and 'actor_3_facebook_likes' columns.\n",
    "\n",
    "    Returns:\n",
    "    pd.DataFrame\n",
    "        A modified DataFrame with:\n",
    "        - A new column 'actor_total_facebook_likes' containing the sum of Facebook likes for all actors.\n",
    "        - The original columns 'actor_1_facebook_likes', 'actor_2_facebook_likes', and \n",
    "          'actor_3_facebook_likes' removed.\n",
    "    '''\n",
    "    data['actor_1_facebook_likes'] = data['actor_1_facebook_likes'].fillna(0)\n",
    "    data['actor_2_facebook_likes'] = data['actor_2_facebook_likes'].fillna(0)\n",
    "    data['actor_3_facebook_likes'] = data['actor_3_facebook_likes'].fillna(0)\n",
    "\n",
    "    data['actor_total_facebook_likes'] = (\n",
    "        data['actor_1_facebook_likes'] + \n",
    "        data['actor_2_facebook_likes'] + \n",
    "        data['actor_3_facebook_likes'])\n",
    "\n",
    "    data = data.drop(columns=['actor_1_facebook_likes', 'actor_2_facebook_likes', 'actor_3_facebook_likes'])\n",
    "    return data"
   ]
  },
  {
   "cell_type": "code",
   "execution_count": null,
   "metadata": {},
   "outputs": [],
   "source": [
    "df = _sum_actor_facebook_likes(df)\n",
    "df"
   ]
  },
  {
   "cell_type": "code",
   "execution_count": null,
   "metadata": {},
   "outputs": [],
   "source": [
    "plt.figure(figsize=(8, 5))\n",
    "plt.boxplot(df['actor_total_facebook_likes'], vert=False, patch_artist=True, boxprops=dict(facecolor=\"skyblue\"))\n",
    "plt.title(\"Box Plot for Total Facebook Likes\", fontsize=16)\n",
    "plt.xlabel(\"Total Facebook Likes\", fontsize=12)\n",
    "plt.tight_layout()\n",
    "\n",
    "# Display the plot\n",
    "plt.show()"
   ]
  },
  {
   "cell_type": "code",
   "execution_count": null,
   "metadata": {},
   "outputs": [],
   "source": [
    "Q1 = df['actor_total_facebook_likes'].quantile(0.25)\n",
    "Q3 = df['actor_total_facebook_likes'].quantile(0.75)\n",
    "IQR = Q3 - Q1\n",
    "\n",
    "# Define lower and upper bounds for outliers\n",
    "lower_bound = Q1 - 1.5 * IQR\n",
    "upper_bound = Q3 + 1.5 * IQR\n",
    "\n",
    "# Identify outliers\n",
    "outliers = df[(df['actor_total_facebook_likes'] < lower_bound) | (df['actor_total_facebook_likes'] > upper_bound)]\n",
    "print(\"Outliers:\")\n",
    "print(outliers)"
   ]
  },
  {
   "cell_type": "code",
   "execution_count": null,
   "metadata": {},
   "outputs": [],
   "source": [
    "# Calculate z-scores for actor_total_facebook_likes\n",
    "df['z_score'] = zscore(df['actor_total_facebook_likes'])\n",
    "\n",
    "# Identify outliers\n",
    "outliers = df[(df['z_score'] > 3) | (df['z_score'] < -3)]\n",
    "print(\"Outliers based on Z-scores:\")\n",
    "print(outliers)"
   ]
  }
 ],
 "metadata": {
  "kernelspec": {
   "display_name": "dev",
   "language": "python",
   "name": "python3"
  },
  "language_info": {
   "codemirror_mode": {
    "name": "ipython",
    "version": 3
   },
   "file_extension": ".py",
   "mimetype": "text/x-python",
   "name": "python",
   "nbconvert_exporter": "python",
   "pygments_lexer": "ipython3",
   "version": "3.10.14"
  }
 },
 "nbformat": 4,
 "nbformat_minor": 2
}
