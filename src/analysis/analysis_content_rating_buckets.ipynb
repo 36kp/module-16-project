{
 "cells": [
  {
   "cell_type": "code",
   "execution_count": null,
   "metadata": {},
   "outputs": [],
   "source": [
    "import pandas as pd\n",
    "import matplotlib.pyplot as plt\n",
    "from sklearn.preprocessing import OneHotEncoder"
   ]
  },
  {
   "cell_type": "code",
   "execution_count": null,
   "metadata": {},
   "outputs": [],
   "source": [
    "# set pandas options\n",
    "pd.set_option('display.max_columns', None)"
   ]
  },
  {
   "cell_type": "code",
   "execution_count": null,
   "metadata": {},
   "outputs": [],
   "source": [
    "# fetch the data \n",
    "df = pd.read_csv(\"../../resources/movie_metadata.csv\")\n",
    "df.head()"
   ]
  },
  {
   "cell_type": "code",
   "execution_count": null,
   "metadata": {},
   "outputs": [],
   "source": [
    "df['content_rating'].value_counts()"
   ]
  },
  {
   "cell_type": "code",
   "execution_count": null,
   "metadata": {},
   "outputs": [],
   "source": [
    "df['content_rating'].isnull().sum() \n",
    "# there are NaN this will be fixed in preproc.bucket_contentRatings"
   ]
  },
  {
   "cell_type": "code",
   "execution_count": null,
   "metadata": {},
   "outputs": [],
   "source": [
    "# plot the distribution of all content_rating's\n",
    "rating_distribution = df['content_rating'].value_counts()\n",
    "plt.figure(figsize=(8, 5))\n",
    "rating_distribution.plot(kind='bar', alpha=0.7, color='skyblue')\n",
    "plt.title(\"Distribution of Rating Bin\", fontsize=16)\n",
    "plt.xlabel(\"Rating Bin\", fontsize=12)\n",
    "plt.ylabel(\"Count\", fontsize=12)\n",
    "plt.xticks(rotation=45, fontsize=10)\n",
    "plt.grid(axis='y', linestyle='--', alpha=0.7)\n",
    "plt.tight_layout()\n",
    "\n",
    "# Display the plot\n",
    "plt.show()"
   ]
  },
  {
   "cell_type": "code",
   "execution_count": null,
   "metadata": {},
   "outputs": [],
   "source": [
    "def _bucket_contentRatings(data: pd.DataFrame) -> pd.DataFrame:\n",
    "    '''\n",
    "    Groups content ratings in a Pandas DataFrame into buckets based on their percentage frequency.\n",
    "\n",
    "    This function processes the 'content_rating' column by:\n",
    "    - Filling missing values with \"other\".\n",
    "    - Calculating the percentage frequency of each unique content rating.\n",
    "    - Assigning content ratings with less than 10% occurrence to an \"other\" bucket.\n",
    "    - Replacing the original 'content_rating' column with a new column named 'rating_bin', which \n",
    "      contains the binned content ratings.\n",
    "\n",
    "    Parameters:\n",
    "    data : pd.DataFrame\n",
    "        The input DataFrame containing a 'content_rating' column to process.\n",
    "\n",
    "    Returns:\n",
    "    pd.DataFrame\n",
    "        A modified DataFrame where:\n",
    "        - The original 'content_rating' column is replaced by a new 'rating_bin' column.\n",
    "        - Ratings with less than 10% occurrence are grouped into an \"other\" category.\n",
    "    '''    \n",
    "    content_rating_df = data[['content_rating']].copy()\n",
    "    content_rating_df['content_rating'] = content_rating_df['content_rating'].fillna(\"other\")\n",
    "    total_count = content_rating_df['content_rating'].value_counts().sum()\n",
    "    content_rating_df['percentage'] = content_rating_df['content_rating'].map(content_rating_df['content_rating'].value_counts()) / total_count * 100\n",
    "    content_rating_df[\"rating_bin\"] = content_rating_df[\"content_rating\"].where(content_rating_df[\"percentage\"] >= 10, \"other\")\n",
    "    content_rating_df.drop(columns=['content_rating','percentage'], inplace=True)\n",
    "    data.drop(columns=['content_rating'], inplace=True)\n",
    "    return pd.concat([data, content_rating_df], axis=1)"
   ]
  },
  {
   "cell_type": "code",
   "execution_count": null,
   "metadata": {},
   "outputs": [],
   "source": [
    "# call function to replace content_rating with a bucketed version\n",
    "content_rating_replaced_df = _bucket_contentRatings(df)"
   ]
  },
  {
   "cell_type": "code",
   "execution_count": null,
   "metadata": {},
   "outputs": [],
   "source": [
    "content_rating_replaced_df['rating_bin'].isnull().sum() "
   ]
  },
  {
   "cell_type": "code",
   "execution_count": null,
   "metadata": {},
   "outputs": [],
   "source": [
    "content_rating_replaced_df['rating_bin'].value_counts()"
   ]
  },
  {
   "cell_type": "code",
   "execution_count": null,
   "metadata": {},
   "outputs": [],
   "source": [
    "content_rating_replaced_df.head()"
   ]
  },
  {
   "cell_type": "code",
   "execution_count": null,
   "metadata": {},
   "outputs": [],
   "source": [
    "# plot the distribution of the new rating bins\n",
    "rating_distribution = content_rating_replaced_df['rating_bin'].value_counts()\n",
    "plt.figure(figsize=(8, 5))\n",
    "rating_distribution.plot(kind='bar', alpha=0.7, color='skyblue')\n",
    "plt.title(\"Distribution of Rating Bin\", fontsize=16)\n",
    "plt.xlabel(\"Rating Bin\", fontsize=12)\n",
    "plt.ylabel(\"Count\", fontsize=12)\n",
    "plt.xticks(rotation=0, fontsize=10)\n",
    "plt.grid(axis='y', linestyle='--', alpha=0.7)\n",
    "plt.tight_layout()\n",
    "plt.show()"
   ]
  },
  {
   "cell_type": "code",
   "execution_count": null,
   "metadata": {},
   "outputs": [],
   "source": [
    "# now that we have the new rating_bin column, we can encode them using one hot encoding\n",
    "encoder = OneHotEncoder(sparse_output=False)  \n",
    "content_rating_encoded = encoder.fit_transform(content_rating_replaced_df[[\"rating_bin\"]])\n",
    "content_rating_encoded = pd.DataFrame(content_rating_encoded, columns=encoder.get_feature_names_out([\"rating_bin\"]))\n",
    "content_rating_encoded"
   ]
  },
  {
   "cell_type": "code",
   "execution_count": null,
   "metadata": {},
   "outputs": [],
   "source": [
    "# add the encoded columns to the dataframe and drop the original content_rating column\n",
    "df = pd.concat([df, content_rating_encoded], axis=1)\n",
    "df.head()"
   ]
  }
 ],
 "metadata": {
  "kernelspec": {
   "display_name": "dev",
   "language": "python",
   "name": "python3"
  },
  "language_info": {
   "codemirror_mode": {
    "name": "ipython",
    "version": 3
   },
   "file_extension": ".py",
   "mimetype": "text/x-python",
   "name": "python",
   "nbconvert_exporter": "python",
   "pygments_lexer": "ipython3",
   "version": "3.10.14"
  }
 },
 "nbformat": 4,
 "nbformat_minor": 2
}
