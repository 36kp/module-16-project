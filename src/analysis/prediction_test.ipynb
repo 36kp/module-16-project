{
 "cells": [
  {
   "cell_type": "code",
   "execution_count": null,
   "metadata": {},
   "outputs": [],
   "source": [
    "import sys\n",
    "from pathlib import Path\n",
    "sys.path.append(str(Path.cwd().parent))"
   ]
  },
  {
   "cell_type": "code",
   "execution_count": null,
   "metadata": {},
   "outputs": [],
   "source": [
    "import pandas as pd\n",
    "import utils.fetcher_utils as fetcher\n",
    "import utils.preprocess_util as preproc\n",
    "from utils.prediction_builder import PredictionDFBuilder"
   ]
  },
  {
   "cell_type": "code",
   "execution_count": null,
   "metadata": {},
   "outputs": [],
   "source": [
    "# set pandas options\n",
    "pd.set_option('display.max_columns', None)"
   ]
  },
  {
   "cell_type": "code",
   "execution_count": null,
   "metadata": {},
   "outputs": [],
   "source": [
    "df = fetcher.aquireIMDbDataFrame(\"../../resources\")\n",
    "df"
   ]
  },
  {
   "cell_type": "code",
   "execution_count": null,
   "metadata": {},
   "outputs": [],
   "source": [
    "processed_df = preproc.preprocess_data(df)\n",
    "processed_df\n",
    "\n",
    "processed_df.columns"
   ]
  },
  {
   "cell_type": "code",
   "execution_count": null,
   "metadata": {},
   "outputs": [],
   "source": [
    "builder = PredictionDFBuilder(df)\n",
    "prediction_df = (\n",
    "    builder\n",
    "    .add_actor_1(\"Clint Eastwood\")\n",
    "    .add_actor_2(\"Meryl Streep\")\n",
    "    .add_actor_3(\"Tom Hanks\")\n",
    "    .add_director(\"Steven Spielberg\")\n",
    "    .add_rating(\"PG-13\")\n",
    "    .build()\n",
    ")\n",
    "\n",
    "prediction_df.head(10)\n"
   ]
  }
 ],
 "metadata": {
  "kernelspec": {
   "display_name": "base",
   "language": "python",
   "name": "python3"
  },
  "language_info": {
   "codemirror_mode": {
    "name": "ipython",
    "version": 3
   },
   "file_extension": ".py",
   "mimetype": "text/x-python",
   "name": "python",
   "nbconvert_exporter": "python",
   "pygments_lexer": "ipython3",
   "version": "3.12.4"
  }
 },
 "nbformat": 4,
 "nbformat_minor": 2
}
